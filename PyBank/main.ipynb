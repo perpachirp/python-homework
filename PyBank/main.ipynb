{
 "cells": [
  {
   "cell_type": "code",
   "execution_count": 97,
   "id": "0c5cbc0f-c6be-4c98-8c41-b0502c0a1a54",
   "metadata": {},
   "outputs": [],
   "source": [
    "import csv\n",
    "from pathlib import Path"
   ]
  },
  {
   "cell_type": "code",
   "execution_count": 98,
   "id": "69809147-d071-4a63-a3b2-827c485456fd",
   "metadata": {
    "tags": []
   },
   "outputs": [],
   "source": [
    "file_to_load = Path(\"budget_data.csv\")\n",
    "file_to_output = Path(\"budget_analytics.txt\")"
   ]
  },
  {
   "cell_type": "code",
   "execution_count": 99,
   "id": "fb9998ca-b4f5-4dda-b3ad-3b1a387472dd",
   "metadata": {
    "tags": []
   },
   "outputs": [],
   "source": [
    "#creating variables\n",
    "total_months = 0\n",
    "month_of_change = []\n",
    "net_change_list = []\n",
    "greatest_increase = [\"\", 0]\n",
    "greatest_decrease = [\"\", 86]\n",
    "total_net = 0"
   ]
  },
  {
   "cell_type": "code",
   "execution_count": 100,
   "id": "4168c297-51ad-415c-93e7-c2e32d89fd6b",
   "metadata": {
    "tags": []
   },
   "outputs": [],
   "source": [
    "#creating a list of dictionaries\n",
    "with open(file_to_load) as financial_data:\n",
    "    reader = csv.reader(financial_data)\n",
    "    \n",
    "     #read the header row\n",
    "    header = next(reader)\n",
    "    \n",
    "    #calculating metrics from first row\n",
    "    first_row = next(reader)\n",
    "    total_months = total_months + 1\n",
    "    total_net = total_net + int(first_row[1])\n",
    "    prev_net = int(first_row[1])\n",
    "    \n",
    "    #populating metrics\n",
    "    for row in reader:\n",
    "        total = months = total_months +1\n",
    "        total_net = total_net + int(row[1])\n",
    "        \n",
    "        net_change = int(row[1]) - prev_net\n",
    "        prev_net = int(row[1])\n",
    "        net_change_list = net_change_list + [net_change]\n",
    "        month_of_change = month_of_change + [row[0]]\n",
    "        \n",
    "        if net_change > greatest_increase[1]:\n",
    "            greatest_increase[0] = row[0]\n",
    "            greatest_increase[1] = net_change\n",
    "            \n",
    "        if net_change < greatest_decrease[1]:\n",
    "            greatest_increase[0] = row[0]\n",
    "            greatest_increase[1] = net_change"
   ]
  },
  {
   "cell_type": "code",
   "execution_count": 101,
   "id": "07ca864e-4516-4570-8a99-91adb2ac9001",
   "metadata": {
    "tags": []
   },
   "outputs": [],
   "source": [
    "net_monthly_avg = sum(net_change_list) / len(net_change_list)"
   ]
  },
  {
   "cell_type": "code",
   "execution_count": 102,
   "id": "1757caff-241d-4258-a9a9-a7e5e7bb06ad",
   "metadata": {
    "tags": []
   },
   "outputs": [],
   "source": [
    "with open(file_to_output, 'w') as txt_file:\n",
    "    txt_file.write(f\"Financial Analysis\\n\")\n",
    "    txt_file.write(f\"----------------------------\\n\")\n",
    "    txt_file.write(f\"Total months: {total_months}\\n\")\n",
    "    txt_file.write(f\"Total: ${total_net}\\n\")\n",
    "    txt_file.write(f\"Average Change: ${net_monthly_avg}\\n\")\n",
    "    txt_file.write(f\"Greatest Increase in Profits: {greatest_increase[0]} (${greatest_increase[1]})\\n\")\n",
    "    txt_file.write(f\"Greatest Decrease in Profits: {greatest_decrease[0]} (${greatest_decrease[1]})\\n\")"
   ]
  },
  {
   "cell_type": "code",
   "execution_count": null,
   "id": "1791b008-2316-4d60-ad66-7ec71bf3af40",
   "metadata": {},
   "outputs": [],
   "source": []
  }
 ],
 "metadata": {
  "kernelspec": {
   "display_name": "Python 3 (ipykernel)",
   "language": "python",
   "name": "python3"
  },
  "language_info": {
   "codemirror_mode": {
    "name": "ipython",
    "version": 3
   },
   "file_extension": ".py",
   "mimetype": "text/x-python",
   "name": "python",
   "nbconvert_exporter": "python",
   "pygments_lexer": "ipython3",
   "version": "3.11.4"
  }
 },
 "nbformat": 4,
 "nbformat_minor": 5
}
